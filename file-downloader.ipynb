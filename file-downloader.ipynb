{
  "nbformat": 4,
  "nbformat_minor": 0,
  "metadata": {
    "colab": {
      "provenance": []
    },
    "kernelspec": {
      "name": "python3",
      "display_name": "Python 3"
    },
    "language_info": {
      "name": "python"
    }
  },
  "cells": [
    {
      "cell_type": "markdown",
      "source": [
        "# 🚀 Colab Direct Download to Drive\n",
        "\n",
        "Download files directly from any public URL to your Google Drive, with live progress bars, upload tracking, and automatic duplicate filename handling.\n",
        "\n",
        "---\n",
        "\n",
        "## 📋 What does this notebook do?\n",
        "\n",
        "- Downloads files from direct download links (HTTP/HTTPS)  \n",
        "- Uploads each file into your Google Drive (`MyDrive/ColabDownloads` by default)  \n",
        "- Shows progress bars for both download and upload steps (speed, ETA, size)\n",
        "\n",
        "---\n",
        "\n",
        "## ✅ How to use\n",
        "\n",
        "1. **Run all cells in order.**\n",
        "2. When prompted, **paste the direct download URLs** you want (one per line).\n",
        "3. Type `exit` and press Enter when finished.\n",
        "4. Your files will be saved in your Google Drive under  \n",
        "   `My Drive/ColabDownloads`\n",
        "\n",
        "---\n",
        "\n",
        "**Requirements**\n",
        "\n",
        "- Run this notebook inside [Google Colab](https://colab.research.google.com).\n",
        "- You'll be prompted to mount your Google Drive for saving files.\n"
      ],
      "metadata": {
        "id": "QE7JflCS-a4Z"
      }
    },
    {
      "cell_type": "code",
      "execution_count": null,
      "metadata": {
        "id": "oDnxxxVc87ab"
      },
      "outputs": [],
      "source": [
        "# Install required packages\n",
        "!pip -q install requests tqdm"
      ]
    },
    {
      "cell_type": "code",
      "source": [
        "# Mount Google Drive\n",
        "from google.colab import drive\n",
        "drive.mount(\"/content/drive\")"
      ],
      "metadata": {
        "id": "7qj_9j_Q9IAs"
      },
      "execution_count": null,
      "outputs": []
    },
    {
      "cell_type": "code",
      "source": [
        "# Imports\n",
        "import os, sys, time, uuid, shutil\n",
        "from pathlib import Path\n",
        "import requests\n",
        "from tqdm import tqdm\n",
        "\n",
        "# Helper: create a unique filename if the target exists\n",
        "def _unique_name(path: Path) -> Path:\n",
        "    if not path.exists():\n",
        "        return path\n",
        "    stem, suffix = path.stem, path.suffix\n",
        "    while True:\n",
        "        candidate = path.with_name(f\"{stem}_{uuid.uuid4().hex[:6]}{suffix}\")\n",
        "        if not candidate.exists():\n",
        "            return candidate\n",
        "\n",
        "# Download with progress bar\n",
        "def download_to_tmp(url: str, chunk_size: int = 1024 * 1024) -> Path:\n",
        "    response = requests.get(url, stream=True, timeout=10)\n",
        "    response.raise_for_status()\n",
        "\n",
        "    total = int(response.headers.get(\"Content-Length\", 0))\n",
        "    local_tmp = Path(\"/tmp\") / os.path.basename(url.split(\"?\")[0])\n",
        "    local_tmp = _unique_name(local_tmp)\n",
        "\n",
        "    with open(local_tmp, \"wb\") as f, tqdm(\n",
        "        total=total,\n",
        "        unit=\"B\",\n",
        "        unit_scale=True,\n",
        "        unit_divisor=1024,\n",
        "        desc=f\"↓ {local_tmp.name}\",\n",
        "        ascii=True,\n",
        "        file=sys.stdout,\n",
        "    ) as bar:\n",
        "        start = time.time()\n",
        "        for chunk in response.iter_content(chunk_size=chunk_size):\n",
        "            if chunk:\n",
        "                f.write(chunk)\n",
        "                bar.update(len(chunk))\n",
        "        elapsed = time.time() - start\n",
        "    print(f\"Downloaded to {local_tmp} in {elapsed:.1f}s\")\n",
        "    return local_tmp\n",
        "\n",
        "# Upload to Drive with progress bar\n",
        "def upload_to_drive(local_file: Path, drive_dir: Path, chunk_size: int = 1024 * 1024):\n",
        "    drive_dir.mkdir(parents=True, exist_ok=True)\n",
        "    dest_file = _unique_name(drive_dir / local_file.name)\n",
        "\n",
        "    total = local_file.stat().st_size\n",
        "    with open(local_file, \"rb\") as src, open(dest_file, \"wb\") as dst, tqdm(\n",
        "        total=total,\n",
        "        unit=\"B\",\n",
        "        unit_scale=True,\n",
        "        unit_divisor=1024,\n",
        "        desc=f\"↑ {dest_file.name}\",\n",
        "        ascii=True,\n",
        "        file=sys.stdout,\n",
        "    ) as bar:\n",
        "        start = time.time()\n",
        "        while True:\n",
        "            buf = src.read(chunk_size)\n",
        "            if not buf:\n",
        "                break\n",
        "            dst.write(buf)\n",
        "            bar.update(len(buf))\n",
        "        elapsed = time.time() - start\n",
        "    print(f\"Uploaded to {dest_file} in {elapsed:.1f}s\\n\")"
      ],
      "metadata": {
        "id": "Qzf7ERjb9JiL"
      },
      "execution_count": null,
      "outputs": []
    },
    {
      "cell_type": "code",
      "source": [
        "# Main\n",
        "def main():\n",
        "    default_drive_path = Path(\"/content/drive/MyDrive/ColabDownloads\")\n",
        "    print(\"Type direct-download URLs (one per line). Enter 'exit' to run.\\n\")\n",
        "    urls = []\n",
        "    while True:\n",
        "        url = input(\"URL ➜ \").strip()\n",
        "        if url.lower() == \"exit\":\n",
        "            break\n",
        "        if url:\n",
        "            urls.append(url)\n",
        "\n",
        "    if not urls:\n",
        "        print(\"No URLs provided — exiting.\"); return\n",
        "\n",
        "    print(f\"\\nFiles will be saved under: {default_drive_path}\\n\")\n",
        "    for url in urls:\n",
        "        try:\n",
        "            tmp_file = download_to_tmp(url)\n",
        "            upload_to_drive(tmp_file, default_drive_path)\n",
        "            tmp_file.unlink(missing_ok=True)  # clean up\n",
        "        except Exception as e:\n",
        "            print(f\"❌  Failed for {url}: {e}\\n\")\n",
        "\n",
        "if __name__ == \"__main__\":\n",
        "    main()"
      ],
      "metadata": {
        "id": "tLVWEt0V9upU"
      },
      "execution_count": null,
      "outputs": []
    }
  ]
}